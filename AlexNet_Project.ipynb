{
  "cells": [
    {
      "cell_type": "markdown",
      "metadata": {
        "id": "view-in-github",
        "colab_type": "text"
      },
      "source": [
        "<a href=\"https://colab.research.google.com/github/Busola181/Python_From_Zero_To_Hero-/blob/main/AlexNet_Project.ipynb\" target=\"_parent\"><img src=\"https://colab.research.google.com/assets/colab-badge.svg\" alt=\"Open In Colab\"/></a>"
      ]
    },
    {
      "cell_type": "markdown",
      "metadata": {
        "id": "lfMs79S5GlIK"
      },
      "source": [
        "MOUNTING DRIVE"
      ]
    },
    {
      "cell_type": "code",
      "execution_count": null,
      "metadata": {
        "colab": {
          "base_uri": "https://localhost:8080/"
        },
        "id": "nMrgZEpDyHi9",
        "outputId": "8dda7a2d-9b81-408c-ddb0-931f9b6ab20c"
      },
      "outputs": [
        {
          "output_type": "stream",
          "name": "stdout",
          "text": [
            "Drive already mounted at /content/drive; to attempt to forcibly remount, call drive.mount(\"/content/drive\", force_remount=True).\n"
          ]
        }
      ],
      "source": [
        "from google.colab import drive\n",
        "drive.mount('/content/drive')"
      ]
    },
    {
      "cell_type": "markdown",
      "metadata": {
        "id": "HsE-v2VkGs6T"
      },
      "source": [
        "EXTRACTING ZIP FILE"
      ]
    },
    {
      "cell_type": "code",
      "execution_count": null,
      "metadata": {
        "id": "0u4ZrXnR646q"
      },
      "outputs": [],
      "source": [
        "# import zipfile\n",
        "\n",
        "# zip_file_path = '/content/drive/MyDrive/Deep Learning/dogs-vs-cats.zip'\n",
        "# extract_path = '/content/dogs-vs-cats'\n",
        "\n",
        "# with zipfile.ZipFile(zip_file_path, 'r') as zip_ref:\n",
        "#     zip_ref.extractall(extract_path)"
      ]
    },
    {
      "cell_type": "code",
      "source": [
        "# import os\n",
        "# import shutil\n",
        "# import random\n",
        "\n",
        "# path = \"/content/train\"\n",
        "# files = os.listdir(path)\n",
        "\n",
        "# def move_file(init_path, final_path, file_amount):\n",
        "#     for idx in range(file_amount):\n",
        "#         random_file = random.choice(files)\n",
        "#         shutil.move(os.path.join(init_path, random_file), os.path.join(final_path, random_file))\n",
        "#         files.remove(random_file)\n",
        "\n",
        "\n",
        "# # move_file('/content/train', '/content/new_dogs_cat/test', 3750)"
      ],
      "metadata": {
        "id": "4lpr3o35p9Nj"
      },
      "execution_count": null,
      "outputs": []
    },
    {
      "cell_type": "code",
      "source": [
        "# !ls 'drive/MyDrive/Deep Learning/new-dogs-vs-cats/train/cat'"
      ],
      "metadata": {
        "id": "kAgdHkCyvthF"
      },
      "execution_count": null,
      "outputs": []
    },
    {
      "cell_type": "code",
      "source": [
        "# def split_data(path):\n",
        "#     files = os.listdir(path)\n",
        "#     for file in files:\n",
        "#         if 'cat' in file:\n",
        "#             shutil.move(os.path.join(path, file), os.path.join(path, 'cat', file))\n",
        "#         else:\n",
        "#             shutil.move(os.path.join(path, file), os.path.join(path, 'dog', file))\n",
        "\n",
        "# # split_data('drive/MyDrive/Deep Learning/new-dogs-vs-cats/train')\n",
        "# # split_data('drive/MyDrive/Deep Learning/new-dogs-vs-cats/test')"
      ],
      "metadata": {
        "id": "bepTxZA_yhDI"
      },
      "execution_count": null,
      "outputs": []
    },
    {
      "cell_type": "code",
      "source": [
        "# !unzip \"/content/dogs-vs-cats/train.zip\""
      ],
      "metadata": {
        "id": "VsoFENsBpI3M"
      },
      "execution_count": null,
      "outputs": []
    },
    {
      "cell_type": "markdown",
      "metadata": {
        "id": "SnACpCnq8X_8"
      },
      "source": [
        "WEIGHT AND BIASES INITIALS"
      ]
    },
    {
      "cell_type": "code",
      "execution_count": null,
      "metadata": {
        "id": "DKobZqc27nNz",
        "colab": {
          "base_uri": "https://localhost:8080/"
        },
        "outputId": "9e56d3a2-269a-41f9-a70f-b577f31a9c8f"
      },
      "outputs": [
        {
          "output_type": "stream",
          "name": "stdout",
          "text": [
            "Requirement already satisfied: wandb in /usr/local/lib/python3.10/dist-packages (0.18.1)\n",
            "Requirement already satisfied: click!=8.0.0,>=7.1 in /usr/local/lib/python3.10/dist-packages (from wandb) (8.1.7)\n",
            "Requirement already satisfied: docker-pycreds>=0.4.0 in /usr/local/lib/python3.10/dist-packages (from wandb) (0.4.0)\n",
            "Requirement already satisfied: gitpython!=3.1.29,>=1.0.0 in /usr/local/lib/python3.10/dist-packages (from wandb) (3.1.43)\n",
            "Requirement already satisfied: platformdirs in /usr/local/lib/python3.10/dist-packages (from wandb) (4.3.6)\n",
            "Requirement already satisfied: protobuf!=4.21.0,!=5.28.0,<6,>=3.19.0 in /usr/local/lib/python3.10/dist-packages (from wandb) (3.20.3)\n",
            "Requirement already satisfied: psutil>=5.0.0 in /usr/local/lib/python3.10/dist-packages (from wandb) (5.9.5)\n",
            "Requirement already satisfied: pyyaml in /usr/local/lib/python3.10/dist-packages (from wandb) (6.0.2)\n",
            "Requirement already satisfied: requests<3,>=2.0.0 in /usr/local/lib/python3.10/dist-packages (from wandb) (2.32.3)\n",
            "Requirement already satisfied: sentry-sdk>=1.0.0 in /usr/local/lib/python3.10/dist-packages (from wandb) (2.14.0)\n",
            "Requirement already satisfied: setproctitle in /usr/local/lib/python3.10/dist-packages (from wandb) (1.3.3)\n",
            "Requirement already satisfied: setuptools in /usr/local/lib/python3.10/dist-packages (from wandb) (71.0.4)\n",
            "Requirement already satisfied: six>=1.4.0 in /usr/local/lib/python3.10/dist-packages (from docker-pycreds>=0.4.0->wandb) (1.16.0)\n",
            "Requirement already satisfied: gitdb<5,>=4.0.1 in /usr/local/lib/python3.10/dist-packages (from gitpython!=3.1.29,>=1.0.0->wandb) (4.0.11)\n",
            "Requirement already satisfied: charset-normalizer<4,>=2 in /usr/local/lib/python3.10/dist-packages (from requests<3,>=2.0.0->wandb) (3.3.2)\n",
            "Requirement already satisfied: idna<4,>=2.5 in /usr/local/lib/python3.10/dist-packages (from requests<3,>=2.0.0->wandb) (3.10)\n",
            "Requirement already satisfied: urllib3<3,>=1.21.1 in /usr/local/lib/python3.10/dist-packages (from requests<3,>=2.0.0->wandb) (2.2.3)\n",
            "Requirement already satisfied: certifi>=2017.4.17 in /usr/local/lib/python3.10/dist-packages (from requests<3,>=2.0.0->wandb) (2024.8.30)\n",
            "Requirement already satisfied: smmap<6,>=3.0.1 in /usr/local/lib/python3.10/dist-packages (from gitdb<5,>=4.0.1->gitpython!=3.1.29,>=1.0.0->wandb) (5.0.1)\n"
          ]
        },
        {
          "output_type": "stream",
          "name": "stderr",
          "text": [
            "\u001b[34m\u001b[1mwandb\u001b[0m: Currently logged in as: \u001b[33moluwabusolaadubuola2023\u001b[0m (\u001b[33moluwabusolaadubuola2023-prometheus\u001b[0m). Use \u001b[1m`wandb login --relogin`\u001b[0m to force relogin\n"
          ]
        },
        {
          "output_type": "execute_result",
          "data": {
            "text/plain": [
              "True"
            ]
          },
          "metadata": {},
          "execution_count": 55
        }
      ],
      "source": [
        "!pip install --upgrade wandb\n",
        "import wandb\n",
        "wandb.login()"
      ]
    },
    {
      "cell_type": "markdown",
      "metadata": {
        "id": "ZYY9Gg3F7VyR"
      },
      "source": [
        "DEVICE ASSIGNMENT"
      ]
    },
    {
      "cell_type": "code",
      "execution_count": null,
      "metadata": {
        "colab": {
          "base_uri": "https://localhost:8080/"
        },
        "id": "lYngMLw73bn1",
        "outputId": "66ce5a51-1d97-4d36-e4dd-0eb284dd3d63"
      },
      "outputs": [
        {
          "output_type": "stream",
          "name": "stdout",
          "text": [
            "cuda\n"
          ]
        }
      ],
      "source": [
        "import torch\n",
        "device = 'cuda' if torch.cuda.is_available() else 'cpu'\n",
        "print(device)"
      ]
    },
    {
      "cell_type": "markdown",
      "metadata": {
        "id": "4RXq11qBnWmH"
      },
      "source": [
        "IMPORT LIBRARIES"
      ]
    },
    {
      "cell_type": "code",
      "execution_count": null,
      "metadata": {
        "id": "OY5h76FDym89"
      },
      "outputs": [],
      "source": [
        "import torch\n",
        "import torch.nn as nn\n",
        "import torch.functional as F\n",
        "import torch.optim as optim\n",
        "from torchvision import transforms as t\n",
        "from torchvision.datasets import ImageFolder\n",
        "from torch.utils.data import DataLoader, random_split\n",
        "from torchsummary import summary"
      ]
    },
    {
      "cell_type": "markdown",
      "metadata": {
        "id": "0DFmH_X5Eeag"
      },
      "source": [
        "SCALING DATA"
      ]
    },
    {
      "cell_type": "code",
      "execution_count": null,
      "metadata": {
        "id": "8ZtFQKO01GrU"
      },
      "outputs": [],
      "source": [
        "mean = [0.485, 0.456, 0.406]\n",
        "std = [0.229, 0.224, 0.225]"
      ]
    },
    {
      "cell_type": "markdown",
      "metadata": {
        "id": "xAMnStuNDiMt"
      },
      "source": [
        "IMAGE PREPROCESSING"
      ]
    },
    {
      "cell_type": "code",
      "execution_count": null,
      "metadata": {
        "id": "wY1OCojB0AmG"
      },
      "outputs": [],
      "source": [
        "transform = t.Compose([t.ToTensor(),\n",
        "                       t.RandomResizedCrop(size = (224,224), scale = (0.1, 0.5)),\n",
        "                       t.Normalize(mean=mean, std = std ),\n",
        "                       t.RandomRotation(degrees=15),\n",
        "                        t.ColorJitter(brightness=0.2, contrast=0.2, saturation=0.2, hue=0.2),\n",
        "                       t.RandomHorizontalFlip(),\n",
        "                       t.RandomAffine(0, translate = (0.2,0.2), scale =(0.2,0.8),shear = (-10, 10), fill = 255)])\n",
        "\n"
      ]
    },
    {
      "cell_type": "markdown",
      "metadata": {
        "id": "lY7g2pn4DYc5"
      },
      "source": [
        "DEFINING EACH DATAPATHS"
      ]
    },
    {
      "cell_type": "code",
      "execution_count": null,
      "metadata": {
        "id": "Y5-asY_y_Lxt"
      },
      "outputs": [],
      "source": [
        "training_path = '/content/drive/MyDrive/Deep Learning/new-dogs-vs-cats/train'\n",
        "testing_path = '/content/drive/MyDrive/Deep Learning/new-dogs-vs-cats/test'\n",
        "prediction_path = '/content/dogs-vs-cats/dataset/single_prediction'"
      ]
    },
    {
      "cell_type": "markdown",
      "metadata": {
        "id": "WOBOfkkG1-1I"
      },
      "source": [
        "LOADING THE DATASET"
      ]
    },
    {
      "cell_type": "code",
      "execution_count": null,
      "metadata": {
        "id": "n1lu0CTH15u3"
      },
      "outputs": [],
      "source": [
        "train_dataset = ImageFolder(root = training_path, transform = transform )\n",
        "test_dataset = ImageFolder(root = testing_path, transform = transform )\n",
        "#prediction_dataset = ImageFolder(root = prediction_path, transform = transform )"
      ]
    },
    {
      "cell_type": "code",
      "source": [
        "BATCH_SIZE = 128"
      ],
      "metadata": {
        "id": "K_1Y9fNExoNC"
      },
      "execution_count": null,
      "outputs": []
    },
    {
      "cell_type": "markdown",
      "metadata": {
        "id": "O4Opoe68DLao"
      },
      "source": [
        "SPLITTING THE DATASET"
      ]
    },
    {
      "cell_type": "code",
      "execution_count": null,
      "metadata": {
        "id": "1QeiV8ATJW0v"
      },
      "outputs": [],
      "source": [
        "train_size = 17500\n",
        "val_size = 3750\n",
        "assert train_size + val_size == len(train_dataset)\n",
        "train_ds, val_ds = random_split(train_dataset,\n",
        "                                [train_size, val_size])"
      ]
    },
    {
      "cell_type": "markdown",
      "metadata": {
        "id": "ht_SQBxnBGCK"
      },
      "source": [
        "CREATING DATALOADERS"
      ]
    },
    {
      "cell_type": "code",
      "execution_count": null,
      "metadata": {
        "id": "ZELUokYo5JHF"
      },
      "outputs": [],
      "source": [
        "train_dl = DataLoader(train_ds, BATCH_SIZE, shuffle = True)\n",
        "val_dl = DataLoader(val_ds, BATCH_SIZE, shuffle = False)\n",
        "test_dl = DataLoader(test_dataset, BATCH_SIZE, shuffle = False)"
      ]
    },
    {
      "cell_type": "markdown",
      "metadata": {
        "id": "qTg0slxeFVHH"
      },
      "source": [
        "DEFINING THE AlexNet ARCHITECTURE"
      ]
    },
    {
      "cell_type": "code",
      "execution_count": null,
      "metadata": {
        "id": "6Cfrl7gp2-qU"
      },
      "outputs": [],
      "source": [
        "class ALEXNETModel(nn.Module):\n",
        "    def __init__(self):\n",
        "        super(ALEXNETModel, self).__init__()\n",
        "        self.features = nn.Sequential(\n",
        "        nn.Conv2d( 3, 96, kernel_size = (11, 11),stride = 4, padding = 2 ),\n",
        "        nn.BatchNorm2d(96), nn.ReLU(inplace = True),\n",
        "        nn.MaxPool2d(kernel_size = (3,3), stride = 2),\n",
        "\n",
        "        nn.Conv2d(96, 256, kernel_size = (5,5), stride = 1, padding = 2 ),\n",
        "        nn.BatchNorm2d(256), nn.ReLU(inplace = True),\n",
        "        nn.MaxPool2d(kernel_size = (3,3), stride = 2),\n",
        "\n",
        "        nn.Conv2d(256, 384, kernel_size = (3,3), stride = 1, padding = 1),\n",
        "        nn.BatchNorm2d(384), nn.ReLU(inplace = True),\n",
        "\n",
        "        nn.Conv2d(384, 384, kernel_size = (3,3), stride = 1,padding = 1),\n",
        "        nn.BatchNorm2d(384), nn.ReLU(inplace = True),\n",
        "\n",
        "\n",
        "        nn.Conv2d(384, 256, kernel_size = (3,3), stride = 1, padding = 1),\n",
        "        nn.BatchNorm2d(256), nn.ReLU(inplace = True),\n",
        "        nn.MaxPool2d(kernel_size = (3,3), stride = 2)\n",
        "        )\n",
        "\n",
        "\n",
        "        self.classifier = nn.Sequential(\n",
        "            nn.Dropout(p = 0.3),\n",
        "            nn.Linear(256* 6* 6, 4096), nn.ReLU(inplace = True),\n",
        "            nn.Dropout(p = 0.4),\n",
        "            nn.Linear(4096, 4096), nn.ReLU(inplace = True),\n",
        "            nn.Linear(4096, 1000)\n",
        "            )\n",
        "\n",
        "\n",
        "    def forward(self, X):\n",
        "        out = self.features(X)\n",
        "        out = out.view(out.size(0), -1)\n",
        "        out = self.classifier(out)\n",
        "        return out"
      ]
    },
    {
      "cell_type": "markdown",
      "metadata": {
        "id": "rgGQmcw5IAKA"
      },
      "source": [
        "HYPERPARAMETER TUNING"
      ]
    },
    {
      "cell_type": "code",
      "execution_count": null,
      "metadata": {
        "id": "iNeun7ePGE8y"
      },
      "outputs": [],
      "source": [
        "LEARNING_RATE = 0.001\n",
        "EPOCHS = 20\n",
        "BATCH_SIZE = 128\n",
        "INPUT_SIZE = 154,587\n",
        "NUM_CLASSES = 1000\n",
        "MOMENTUM = 0.9\n",
        "WEIGHT_DECAY = 1e-4"
      ]
    },
    {
      "cell_type": "markdown",
      "metadata": {
        "id": "4elolDzvNt8p"
      },
      "source": [
        "MODEL SUMMARY"
      ]
    },
    {
      "cell_type": "code",
      "execution_count": null,
      "metadata": {
        "colab": {
          "base_uri": "https://localhost:8080/"
        },
        "id": "9MDkfMUHI6WQ",
        "outputId": "621fc264-266e-4dc7-c351-3458de9b84a7"
      },
      "outputs": [
        {
          "output_type": "stream",
          "name": "stdout",
          "text": [
            "----------------------------------------------------------------\n",
            "        Layer (type)               Output Shape         Param #\n",
            "================================================================\n",
            "            Conv2d-1           [-1, 96, 55, 55]          34,944\n",
            "       BatchNorm2d-2           [-1, 96, 55, 55]             192\n",
            "              ReLU-3           [-1, 96, 55, 55]               0\n",
            "         MaxPool2d-4           [-1, 96, 27, 27]               0\n",
            "            Conv2d-5          [-1, 256, 27, 27]         614,656\n",
            "       BatchNorm2d-6          [-1, 256, 27, 27]             512\n",
            "              ReLU-7          [-1, 256, 27, 27]               0\n",
            "         MaxPool2d-8          [-1, 256, 13, 13]               0\n",
            "            Conv2d-9          [-1, 384, 13, 13]         885,120\n",
            "      BatchNorm2d-10          [-1, 384, 13, 13]             768\n",
            "             ReLU-11          [-1, 384, 13, 13]               0\n",
            "           Conv2d-12          [-1, 384, 13, 13]       1,327,488\n",
            "      BatchNorm2d-13          [-1, 384, 13, 13]             768\n",
            "             ReLU-14          [-1, 384, 13, 13]               0\n",
            "           Conv2d-15          [-1, 256, 13, 13]         884,992\n",
            "      BatchNorm2d-16          [-1, 256, 13, 13]             512\n",
            "             ReLU-17          [-1, 256, 13, 13]               0\n",
            "        MaxPool2d-18            [-1, 256, 6, 6]               0\n",
            "          Dropout-19                 [-1, 9216]               0\n",
            "           Linear-20                 [-1, 4096]      37,752,832\n",
            "             ReLU-21                 [-1, 4096]               0\n",
            "          Dropout-22                 [-1, 4096]               0\n",
            "           Linear-23                 [-1, 4096]      16,781,312\n",
            "             ReLU-24                 [-1, 4096]               0\n",
            "           Linear-25                 [-1, 1000]       4,097,000\n",
            "================================================================\n",
            "Total params: 62,381,096\n",
            "Trainable params: 62,381,096\n",
            "Non-trainable params: 0\n",
            "----------------------------------------------------------------\n",
            "Input size (MB): 0.57\n",
            "Forward/backward pass size (MB): 16.05\n",
            "Params size (MB): 237.96\n",
            "Estimated Total Size (MB): 254.59\n",
            "----------------------------------------------------------------\n"
          ]
        }
      ],
      "source": [
        "model = ALEXNETModel().to(device)\n",
        "summary(model, input_size = (3, 224, 224) )"
      ]
    },
    {
      "cell_type": "markdown",
      "metadata": {
        "id": "YLWVg7B9LhhQ"
      },
      "source": [
        "DEFINING LOSS AND OPTIMIZER"
      ]
    },
    {
      "cell_type": "code",
      "execution_count": null,
      "metadata": {
        "id": "stURYETSKkcG"
      },
      "outputs": [],
      "source": [
        "criterion = nn.CrossEntropyLoss()\n",
        "optimizer = optim.SGD(model.parameters(), LEARNING_RATE , MOMENTUM, WEIGHT_DECAY )"
      ]
    },
    {
      "cell_type": "markdown",
      "metadata": {
        "id": "1nOLXPkn5Nka"
      },
      "source": [
        "EXPERIMENT LOGGING"
      ]
    },
    {
      "cell_type": "code",
      "execution_count": null,
      "metadata": {
        "id": "yJ0FJssD45F7",
        "colab": {
          "base_uri": "https://localhost:8080/",
          "height": 104
        },
        "outputId": "29a9d8f3-fe12-4bd9-db0a-c799dcac6b3b"
      },
      "outputs": [
        {
          "output_type": "display_data",
          "data": {
            "text/plain": [
              "<IPython.core.display.HTML object>"
            ],
            "text/html": [
              "Tracking run with wandb version 0.18.1"
            ]
          },
          "metadata": {}
        },
        {
          "output_type": "display_data",
          "data": {
            "text/plain": [
              "<IPython.core.display.HTML object>"
            ],
            "text/html": [
              "Run data is saved locally in <code>/content/wandb/run-20240924_104822-5ppwbpej</code>"
            ]
          },
          "metadata": {}
        },
        {
          "output_type": "display_data",
          "data": {
            "text/plain": [
              "<IPython.core.display.HTML object>"
            ],
            "text/html": [
              "Syncing run <strong><a href='https://wandb.ai/oluwabusolaadubuola2023-prometheus/Alex_Net%28dogs%20and%20cats%29/runs/5ppwbpej' target=\"_blank\">fast-yogurt-3</a></strong> to <a href='https://wandb.ai/oluwabusolaadubuola2023-prometheus/Alex_Net%28dogs%20and%20cats%29' target=\"_blank\">Weights & Biases</a> (<a href='https://wandb.me/run' target=\"_blank\">docs</a>)<br/>"
            ]
          },
          "metadata": {}
        },
        {
          "output_type": "display_data",
          "data": {
            "text/plain": [
              "<IPython.core.display.HTML object>"
            ],
            "text/html": [
              " View project at <a href='https://wandb.ai/oluwabusolaadubuola2023-prometheus/Alex_Net%28dogs%20and%20cats%29' target=\"_blank\">https://wandb.ai/oluwabusolaadubuola2023-prometheus/Alex_Net%28dogs%20and%20cats%29</a>"
            ]
          },
          "metadata": {}
        },
        {
          "output_type": "display_data",
          "data": {
            "text/plain": [
              "<IPython.core.display.HTML object>"
            ],
            "text/html": [
              " View run at <a href='https://wandb.ai/oluwabusolaadubuola2023-prometheus/Alex_Net%28dogs%20and%20cats%29/runs/5ppwbpej' target=\"_blank\">https://wandb.ai/oluwabusolaadubuola2023-prometheus/Alex_Net%28dogs%20and%20cats%29/runs/5ppwbpej</a>"
            ]
          },
          "metadata": {}
        }
      ],
      "source": [
        "run = wandb.init(\n",
        "    project = \"Alex_Net(dogs and cats)\",\n",
        "    config = {\"learning_rate \": LEARNING_RATE,\n",
        "              \"epochs\": EPOCHS,\n",
        "              \"batch_size\": BATCH_SIZE}\n",
        ")"
      ]
    },
    {
      "cell_type": "markdown",
      "metadata": {
        "id": "p0Y6Rz-_5Fbv"
      },
      "source": [
        "TRAINING THE MODEL"
      ]
    },
    {
      "cell_type": "code",
      "execution_count": null,
      "metadata": {
        "id": "oX5iYaZFnfPi"
      },
      "outputs": [],
      "source": [
        "def train(model, train_dl, val_dl, epochs, criterion, optimizer, device ):\n",
        "    wandb.watch(model, log = 'all')\n",
        "    for epoch in range(EPOCHS):\n",
        "        model.train()\n",
        "        epoch_train_loss = 0\n",
        "        correct_train = 0\n",
        "        total_train = 0\n",
        "\n",
        "\n",
        "        for image, labels in train_dl:\n",
        "            image, labels = image.to(device), labels.to(device)\n",
        "            optimizer.zero_grad()\n",
        "            pred = model(image)\n",
        "            loss = criterion(pred, labels)\n",
        "            loss.backward()\n",
        "            optimizer.step()\n",
        "            epoch_train_loss += loss.item()\n",
        "\n",
        "\n",
        "            _, predicted = torch.max(pred, 1)\n",
        "            correct_train += (predicted == labels).sum().item()\n",
        "            total_train += labels.size(0)\n",
        "\n",
        "        avg_train_loss = epoch_train_loss / len(train_dl)\n",
        "        train_accuracy = 100 * correct_train / total_train\n",
        "\n",
        "\n",
        "        model.eval()\n",
        "        epoch_val_loss = 0\n",
        "        correct_val = 0\n",
        "        total_val = 0\n",
        "        with torch.no_grad():\n",
        "            for image, labels in val_dl:\n",
        "                image, labels = image.to(device), labels.to(device)\n",
        "                pred = model(image)\n",
        "                loss = criterion(pred, labels)\n",
        "                epoch_val_loss += loss.item()\n",
        "\n",
        "                _, predicted = torch.max(pred, 1)\n",
        "                correct_val += (predicted == labels).sum().item()\n",
        "                total_val += labels.size(0)\n",
        "\n",
        "\n",
        "        avg_val_loss = epoch_val_loss/ len(val_dl)\n",
        "        val_accuracy = 100 * correct_val / total_val\n",
        "\n",
        "\n",
        "        if (epoch + 1) % 1 == 0:\n",
        "                print(f'Epoch {epoch + 1}/{epochs}, Train Loss: {avg_train_loss:.4f}, Train Acc: {train_accuracy:.2f}%, '\n",
        "                      f'Val Loss: {avg_val_loss:.4f}, Val Acc: {val_accuracy:.2f}%')\n",
        "\n",
        "\n",
        "\n",
        "        wandb.log({\n",
        "                 \"Train Loss\": avg_train_loss,\n",
        "                 \"Train Accuracy\": train_accuracy,\n",
        "                 \"Validation Loss\": avg_val_loss,\n",
        "                 \"Validation Accuracy\": val_accuracy,\n",
        "             })\n"
      ]
    },
    {
      "cell_type": "markdown",
      "metadata": {
        "id": "WcO4uSCX1hpf"
      },
      "source": [
        "IMPLEMENTING THE TRAIN FUNCTION"
      ]
    },
    {
      "cell_type": "code",
      "execution_count": null,
      "metadata": {
        "id": "xopMpKernfMp"
      },
      "outputs": [],
      "source": [
        "train(model, train_dl, val_dl, EPOCHS, criterion, optimizer, device)"
      ]
    },
    {
      "cell_type": "markdown",
      "metadata": {
        "id": "z1_WQ1RV8F38"
      },
      "source": [
        "TESTING THE MODEL"
      ]
    },
    {
      "cell_type": "code",
      "execution_count": null,
      "metadata": {
        "id": "gH-Kjpmcv0Cy"
      },
      "outputs": [],
      "source": [
        "def test(model, test_dl, criterion, device):\n",
        "     with torch.no_grad():\n",
        "        model.eval()\n",
        "        test_loss = 0\n",
        "        correct = 0\n",
        "        total = 0\n",
        "\n",
        "        # wandb.init()\n",
        "\n",
        "        for image, labels in test_dl:\n",
        "            image, labels = image.to(device), labels.to(device)\n",
        "            pred = model(image)\n",
        "            loss = criterion(pred, labels)\n",
        "            test_loss += loss.item()\n",
        "\n",
        "            _, predicted = torch.max(pred, 1)\n",
        "            correct += (predicted == labels).sum().item()\n",
        "            total += labels.size(0)\n",
        "\n",
        "        avg_test_loss = test_loss / len(test_dl)\n",
        "        test_accuracy = 100 * correct / total\n",
        "\n",
        "        print(f'Test Loss: {avg_test_loss:.4f}, Test Accuracy: {test_accuracy:.2f}%')\n",
        "\n",
        "        # wandb.log({\n",
        "        #     \"Test Loss\": avg_test_loss,\n",
        "        #     \"Test Accuracy\": test_accuracy\n",
        "        # })\n",
        "\n",
        "        # wandb.finish()\n",
        "\n",
        "        return avg_test_loss, test_accuracy\n"
      ]
    },
    {
      "cell_type": "markdown",
      "metadata": {
        "id": "0fdBZeb41rk6"
      },
      "source": [
        "IMPLEMENTING THE TEST FUNCTION"
      ]
    },
    {
      "cell_type": "code",
      "execution_count": null,
      "metadata": {
        "id": "Kv1ONfsu8D8z"
      },
      "outputs": [],
      "source": [
        "test(model, test_dl, criterion, device)"
      ]
    },
    {
      "cell_type": "code",
      "execution_count": null,
      "metadata": {
        "id": "0mHF0m4Rtfal"
      },
      "outputs": [],
      "source": [
        "network_checkpoint = {'model': ALEXNETModel(),\n",
        "                      'state_dict': model.state_dict(),\n",
        "                      'optimizer_dict': optimizer.state_dict(),\n",
        "                      'No_of_epochs': EPOCHS}\n",
        "torch.save(network_checkpoint, 'network_checkpoint.pth')\n"
      ]
    },
    {
      "cell_type": "code",
      "execution_count": null,
      "metadata": {
        "id": "RR5SNhSPHhpS"
      },
      "outputs": [],
      "source": [
        "torch.load('network_checkpoint.pth')"
      ]
    }
  ],
  "metadata": {
    "colab": {
      "provenance": [],
      "gpuType": "T4",
      "mount_file_id": "1ToeOeTxE0_CFS5UeqWHaYeXZy4nA-Xq-",
      "authorship_tag": "ABX9TyOHOH7CJYW57bpUuOtBwMMC",
      "include_colab_link": true
    },
    "kernelspec": {
      "display_name": "Python 3",
      "name": "python3"
    },
    "language_info": {
      "name": "python"
    },
    "accelerator": "GPU"
  },
  "nbformat": 4,
  "nbformat_minor": 0
}